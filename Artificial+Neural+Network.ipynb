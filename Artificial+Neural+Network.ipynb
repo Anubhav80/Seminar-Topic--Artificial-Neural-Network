{
 "cells": [
  {
   "cell_type": "markdown",
   "metadata": {
    "collapsed": true
   },
   "source": [
    "# <center>1. Artificial Intelligence<center>"
   ]
  },
  {
   "cell_type": "markdown",
   "metadata": {},
   "source": [
    "<img src=\"images/ai_ml_dl.png\">"
   ]
  },
  {
   "cell_type": "markdown",
   "metadata": {},
   "source": [
    "####  <center> Intrest over Time\n",
    "<img src =\"images/image.jpg\">\n",
    "</center>"
   ]
  },
  {
   "cell_type": "markdown",
   "metadata": {},
   "source": [
    "<center><img src=\"images/data-science-venn.jpg\"></center>"
   ]
  },
  {
   "cell_type": "markdown",
   "metadata": {},
   "source": [
    "+ **Artificial Intelligence** makes it possible for machines to learn from experience, adjust to new inputs and perform human-like tasks.\n",
    "+ **General A.I** fabulous machines that have all our senses (maybe even more), all our reason, and think just like we do.\n",
    "+ **Narrow A.I**  Technologies that are able to perform specific tasks as well as, or better than, we humans can."
   ]
  },
  {
   "cell_type": "markdown",
   "metadata": {},
   "source": [
    "<center><img src=\"images/ai.jpg\"></center>"
   ]
  },
  {
   "cell_type": "markdown",
   "metadata": {},
   "source": [
    "+ ** Example of Narrow A.I** service like Pinterest and face recognition on Facebook."
   ]
  },
  {
   "cell_type": "markdown",
   "metadata": {},
   "source": [
    "+ **Where does that intelligence come from? That get us to the next circle, Machine Learning.**"
   ]
  },
  {
   "cell_type": "markdown",
   "metadata": {},
   "source": [
    "+ ** Deep Learning — A Technique for Implementing Machine Learning.**"
   ]
  },
  {
   "cell_type": "markdown",
   "metadata": {},
   "source": [
    "<center><img src=\"images/google-ai.jpg\" height=\"300\" width=\"400\"></center>"
   ]
  },
  {
   "cell_type": "markdown",
   "metadata": {},
   "source": [
    "#### <center>Perceptron\n",
    "<img src=\"images/perceptron.png\">\n",
    "</center>"
   ]
  },
  {
   "cell_type": "markdown",
   "metadata": {},
   "source": [
    "#### <center>Network of Perceptron make a Neural Network\n",
    "<img src=\"images/nn_net.png\">\n",
    "</center>"
   ]
  },
  {
   "cell_type": "markdown",
   "metadata": {},
   "source": [
    "#### <center> Deep Neural Network\n",
    "<img src=\"images/ai3.jpg\">\n",
    "</center>"
   ]
  },
  {
   "cell_type": "markdown",
   "metadata": {},
   "source": [
    "### 5 Steps ::"
   ]
  },
  {
   "cell_type": "markdown",
   "metadata": {},
   "source": [
    "### 1. Data Collection\n",
    "\n",
    "+ Already Available Datasets\n",
    "+ Social Media\n",
    "+ **Web Scraping**"
   ]
  },
  {
   "cell_type": "markdown",
   "metadata": {},
   "source": [
    "### 2. Data Preprocessing"
   ]
  },
  {
   "cell_type": "markdown",
   "metadata": {},
   "source": [
    "### 3. Features Extraction"
   ]
  },
  {
   "cell_type": "markdown",
   "metadata": {},
   "source": [
    "### Popular Algorithms:\n",
    "\n",
    "+ Bag of Words or BOW (**We will be using**)\n",
    "+ BOW + TfIDF (**Term Frequency inverse Document Freq**)\n",
    "+ Word2Vec (**Invented by Google Researcher Mikolov in 2014**)\n",
    "+ You can use Sci-Kit learn for using these algorithms"
   ]
  },
  {
   "cell_type": "markdown",
   "metadata": {},
   "source": [
    "### 4.Training D.N.N"
   ]
  },
  {
   "cell_type": "markdown",
   "metadata": {},
   "source": [
    "### 5.Let's Make Prediction"
   ]
  },
  {
   "cell_type": "markdown",
   "metadata": {},
   "source": [
    "### Neural Network are not always efficient!\n",
    " \n",
    ">There performance directly depends upon amount of training data.\n",
    "\n",
    "If less data is provided they can misbehave."
   ]
  },
  {
   "cell_type": "markdown",
   "metadata": {
    "collapsed": true
   },
   "source": [
    "<center> <img scr=\"images/n2.png\"> </center>"
   ]
  },
  {
   "cell_type": "markdown",
   "metadata": {},
   "source": [
    "#### <center>Interpretation of Numbers-\n",
    "<img src =\"images/nn/n2.png\"> \n",
    "</center>"
   ]
  },
  {
   "cell_type": "markdown",
   "metadata": {},
   "source": [
    "#### <center> Undestanding of Hidden Layers ::\n",
    "<img src =\"images/nn/n3.png\"> \n",
    "</center>"
   ]
  },
  {
   "cell_type": "markdown",
   "metadata": {},
   "source": [
    "#### <center> Finding Local Minima\n",
    "<img src =\"images/nn/gvg.png\"> \n",
    "</center>"
   ]
  },
  {
   "cell_type": "markdown",
   "metadata": {},
   "source": [
    "#### <center> Sigmoid Function\n",
    "<img src =\"images/nn/n4.png\"> \n",
    "</center>"
   ]
  },
  {
   "cell_type": "markdown",
   "metadata": {},
   "source": [
    "+ As in multilayered Calculas will known that gradient of a function give the direction of steepest ascent."
   ]
  },
  {
   "cell_type": "markdown",
   "metadata": {},
   "source": [
    "#### <center>\n",
    "<img src =\"images/nn/n11.png\"> \n",
    "</center>"
   ]
  },
  {
   "cell_type": "markdown",
   "metadata": {},
   "source": [
    "#### <center>\n",
    "<img src =\"images/nn/n6.png\"> \n",
    "</center>"
   ]
  },
  {
   "cell_type": "markdown",
   "metadata": {},
   "source": [
    "#### <center>\n",
    "<img src =\"images/nn/n8.png\"> \n",
    "</center>"
   ]
  },
  {
   "cell_type": "markdown",
   "metadata": {},
   "source": [
    "#### <center>\n",
    "<img src =\"images/nn/n9.png\"> \n",
    "</center>"
   ]
  },
  {
   "cell_type": "markdown",
   "metadata": {},
   "source": []
  },
  {
   "cell_type": "markdown",
   "metadata": {},
   "source": [
    "#### <center>Changing Weight and Bais to decrease it i.e make output of Network on each piece of training data\n",
    "<img src =\"images/nn/n10.png\"> \n",
    "</center>"
   ]
  },
  {
   "cell_type": "markdown",
   "metadata": {},
   "source": [
    "#### <center>\n",
    "<img src =\"images/nn/n13.png\"> \n",
    "</center>"
   ]
  },
  {
   "cell_type": "markdown",
   "metadata": {},
   "source": [
    "#### <center>Back Propogation\n",
    "<img src =\"images/nn/n17.png\"> \n",
    "</center>"
   ]
  },
  {
   "cell_type": "markdown",
   "metadata": {},
   "source": [
    "#### <center>\n",
    "<img src =\"images/nn/n18.png\"> \n",
    "</center>"
   ]
  },
  {
   "cell_type": "markdown",
   "metadata": {},
   "source": [
    "#### <center>\n",
    "<img src =\"images/nn/n19.png\"> \n",
    "</center>"
   ]
  },
  {
   "cell_type": "markdown",
   "metadata": {},
   "source": [
    "#### <center>\n",
    "<img src =\"images/nn/n14.png\"> \n",
    "</center>"
   ]
  },
  {
   "cell_type": "markdown",
   "metadata": {},
   "source": [
    "#### <center>\n",
    "<img src =\"images/nn/n15.png\"> \n",
    "</center>"
   ]
  },
  {
   "cell_type": "markdown",
   "metadata": {},
   "source": [
    "#### <center>Multilayered Perception Gradient   V/S Stochastic Gradient\n",
    "<img src =\"images/nn/n16.png\"> \n",
    "</center>"
   ]
  },
  {
   "cell_type": "markdown",
   "metadata": {},
   "source": [
    "#### <center> OverAll Scenario\n",
    "<img src =\"images/ai5.png\"> \n",
    "</center>"
   ]
  },
  {
   "cell_type": "markdown",
   "metadata": {},
   "source": [
    "#### <center>Trap for A.I\n",
    "<img src =\"images/ai4.jpg\"> \n",
    "</center>"
   ]
  },
  {
   "cell_type": "markdown",
   "metadata": {},
   "source": [
    "+ <center>Prepared by:Anubhav Srivastava</center>"
   ]
  },
  {
   "cell_type": "markdown",
   "metadata": {},
   "source": [
    "+ References:https://www.patreon.com/3blue1brown\n",
    "+  https://www.youtube.com/watch?v=aircAruvnKk\n",
    "             "
   ]
  },
  {
   "cell_type": "markdown",
   "metadata": {},
   "source": [
    "+ ========================================================================================================================"
   ]
  },
  {
   "cell_type": "code",
   "execution_count": null,
   "metadata": {
    "collapsed": true
   },
   "outputs": [],
   "source": []
  }
 ],
 "metadata": {
  "kernelspec": {
   "display_name": "Python 3",
   "language": "python",
   "name": "python3"
  },
  "language_info": {
   "codemirror_mode": {
    "name": "ipython",
    "version": 3
   },
   "file_extension": ".py",
   "mimetype": "text/x-python",
   "name": "python",
   "nbconvert_exporter": "python",
   "pygments_lexer": "ipython3",
   "version": "3.6.3"
  }
 },
 "nbformat": 4,
 "nbformat_minor": 2
}
